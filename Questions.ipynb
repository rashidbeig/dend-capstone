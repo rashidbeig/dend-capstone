{
 "cells": [
  {
   "cell_type": "code",
   "execution_count": 94,
   "metadata": {
    "editable": true
   },
   "outputs": [],
   "source": [
    "from pyspark.sql import SparkSession\n",
    "import pandas as pd\n",
    "\n",
    "# initialise sparkContext\n",
    "\n",
    "spark = SparkSession.builder \\\n",
    "    .master('local') \\\n",
    "    .appName('myAppName') \\\n",
    "    .config('spark.executor.memory', '5gb') \\\n",
    "    .config(\"spark.cores.max\", \"6\") \\\n",
    "    .getOrCreate()\n",
    "\n",
    "sc = spark.sparkContext\n",
    "\n",
    "# using SQLContext to read parquet file\n",
    "\n",
    "from pyspark.sql import SQLContext\n",
    "\n",
    "sqlContext = SQLContext(sc)\n",
    "\n",
    "# to read parquet files\n",
    "\n",
    "df_immi = sqlContext.read.parquet(\"tables/immigration_fact/part-00000-8da82395-49d1-4b95-8578-82f74ab7e309-c000.snappy.parquet\")\n",
    "df_country = sqlContext.read.parquet(\"tables/country\")\n",
    "df_demographics = sqlContext.read.parquet(\"tables/demographics\")"
   ]
  },
  {
   "cell_type": "markdown",
   "metadata": {
    "editable": true
   },
   "source": [
    "## Top 10 Cities with Highest Percentage of Foreign Born Population"
   ]
  },
  {
   "cell_type": "code",
   "execution_count": 95,
   "metadata": {
    "editable": true
   },
   "outputs": [
    {
     "data": {
      "text/html": [
       "<div>\n",
       "<style scoped>\n",
       "    .dataframe tbody tr th:only-of-type {\n",
       "        vertical-align: middle;\n",
       "    }\n",
       "\n",
       "    .dataframe tbody tr th {\n",
       "        vertical-align: top;\n",
       "    }\n",
       "\n",
       "    .dataframe thead th {\n",
       "        text-align: right;\n",
       "    }\n",
       "</style>\n",
       "<table border=\"1\" class=\"dataframe\">\n",
       "  <thead>\n",
       "    <tr style=\"text-align: right;\">\n",
       "      <th></th>\n",
       "      <th>State</th>\n",
       "      <th>state_Code</th>\n",
       "      <th>City</th>\n",
       "      <th>Percentage</th>\n",
       "    </tr>\n",
       "  </thead>\n",
       "  <tbody>\n",
       "    <tr>\n",
       "      <th>0</th>\n",
       "      <td>Florida</td>\n",
       "      <td>FL</td>\n",
       "      <td>Hialeah</td>\n",
       "      <td>0.717676</td>\n",
       "    </tr>\n",
       "    <tr>\n",
       "      <th>1</th>\n",
       "      <td>Florida</td>\n",
       "      <td>FL</td>\n",
       "      <td>Miami</td>\n",
       "      <td>0.591373</td>\n",
       "    </tr>\n",
       "    <tr>\n",
       "      <th>2</th>\n",
       "      <td>New Jersey</td>\n",
       "      <td>NJ</td>\n",
       "      <td>Union City</td>\n",
       "      <td>0.586458</td>\n",
       "    </tr>\n",
       "    <tr>\n",
       "      <th>3</th>\n",
       "      <td>California</td>\n",
       "      <td>CA</td>\n",
       "      <td>Glendale</td>\n",
       "      <td>0.554707</td>\n",
       "    </tr>\n",
       "    <tr>\n",
       "      <th>4</th>\n",
       "      <td>Florida</td>\n",
       "      <td>FL</td>\n",
       "      <td>Miami Beach</td>\n",
       "      <td>0.540651</td>\n",
       "    </tr>\n",
       "    <tr>\n",
       "      <th>5</th>\n",
       "      <td>California</td>\n",
       "      <td>CA</td>\n",
       "      <td>Daly City</td>\n",
       "      <td>0.531462</td>\n",
       "    </tr>\n",
       "    <tr>\n",
       "      <th>6</th>\n",
       "      <td>California</td>\n",
       "      <td>CA</td>\n",
       "      <td>Alhambra</td>\n",
       "      <td>0.519340</td>\n",
       "    </tr>\n",
       "    <tr>\n",
       "      <th>7</th>\n",
       "      <td>California</td>\n",
       "      <td>CA</td>\n",
       "      <td>El Monte</td>\n",
       "      <td>0.510985</td>\n",
       "    </tr>\n",
       "    <tr>\n",
       "      <th>8</th>\n",
       "      <td>California</td>\n",
       "      <td>CA</td>\n",
       "      <td>Milpitas</td>\n",
       "      <td>0.508085</td>\n",
       "    </tr>\n",
       "    <tr>\n",
       "      <th>9</th>\n",
       "      <td>New Jersey</td>\n",
       "      <td>NJ</td>\n",
       "      <td>Elizabeth</td>\n",
       "      <td>0.491528</td>\n",
       "    </tr>\n",
       "  </tbody>\n",
       "</table>\n",
       "</div>"
      ],
      "text/plain": [
       "        State state_Code         City  Percentage\n",
       "0     Florida         FL      Hialeah    0.717676\n",
       "1     Florida         FL        Miami    0.591373\n",
       "2  New Jersey         NJ   Union City    0.586458\n",
       "3  California         CA     Glendale    0.554707\n",
       "4     Florida         FL  Miami Beach    0.540651\n",
       "5  California         CA    Daly City    0.531462\n",
       "6  California         CA     Alhambra    0.519340\n",
       "7  California         CA     El Monte    0.510985\n",
       "8  California         CA     Milpitas    0.508085\n",
       "9  New Jersey         NJ    Elizabeth    0.491528"
      ]
     },
     "execution_count": 95,
     "metadata": {},
     "output_type": "execute_result"
    }
   ],
   "source": [
    "from pyspark.sql.functions import col\n",
    "from pyspark.sql.functions import desc\n",
    "\n",
    "\n",
    "df_demographics2=df_demographics.withColumn(\"Percentage\", col(\"foreign_born\")/col(\"total_population\"))\n",
    "#df_demographics2.filter(col(\"Percentage\") == \"1\")\n",
    "#df_demographics2.select(col(\"State\"),col(\"City\"),col(\"Percentage\")).sort(desc(\"Percentage\")).limit(10).filter(col(\"Percentage\") > \"0.05\").distinct().limit(5).toPandas()\n",
    "df_demographics2.select(col(\"State\"),col(\"state_Code\"),col(\"City\"),col(\"Percentage\")).sort(desc(\"Percentage\")).distinct().limit(10).toPandas()\n"
   ]
  },
  {
   "cell_type": "markdown",
   "metadata": {
    "editable": true
   },
   "source": [
    "## Arrivals more than 50000"
   ]
  },
  {
   "cell_type": "code",
   "execution_count": 104,
   "metadata": {
    "editable": true
   },
   "outputs": [
    {
     "data": {
      "text/html": [
       "<div>\n",
       "<style scoped>\n",
       "    .dataframe tbody tr th:only-of-type {\n",
       "        vertical-align: middle;\n",
       "    }\n",
       "\n",
       "    .dataframe tbody tr th {\n",
       "        vertical-align: top;\n",
       "    }\n",
       "\n",
       "    .dataframe thead th {\n",
       "        text-align: right;\n",
       "    }\n",
       "</style>\n",
       "<table border=\"1\" class=\"dataframe\">\n",
       "  <thead>\n",
       "    <tr style=\"text-align: right;\">\n",
       "      <th></th>\n",
       "      <th>state_code</th>\n",
       "      <th>country_residence_code</th>\n",
       "      <th>count</th>\n",
       "    </tr>\n",
       "  </thead>\n",
       "  <tbody>\n",
       "    <tr>\n",
       "      <th>0</th>\n",
       "      <td>NY</td>\n",
       "      <td>135.0</td>\n",
       "      <td>75503</td>\n",
       "    </tr>\n",
       "    <tr>\n",
       "      <th>1</th>\n",
       "      <td>NY</td>\n",
       "      <td>111.0</td>\n",
       "      <td>80327</td>\n",
       "    </tr>\n",
       "    <tr>\n",
       "      <th>2</th>\n",
       "      <td>CA</td>\n",
       "      <td>245.0</td>\n",
       "      <td>55863</td>\n",
       "    </tr>\n",
       "    <tr>\n",
       "      <th>3</th>\n",
       "      <td>FL</td>\n",
       "      <td>689.0</td>\n",
       "      <td>64572</td>\n",
       "    </tr>\n",
       "    <tr>\n",
       "      <th>4</th>\n",
       "      <td>FL</td>\n",
       "      <td>135.0</td>\n",
       "      <td>101913</td>\n",
       "    </tr>\n",
       "    <tr>\n",
       "      <th>5</th>\n",
       "      <td>HI</td>\n",
       "      <td>209.0</td>\n",
       "      <td>97768</td>\n",
       "    </tr>\n",
       "  </tbody>\n",
       "</table>\n",
       "</div>"
      ],
      "text/plain": [
       "  state_code  country_residence_code   count\n",
       "0         NY                   135.0   75503\n",
       "1         NY                   111.0   80327\n",
       "2         CA                   245.0   55863\n",
       "3         FL                   689.0   64572\n",
       "4         FL                   135.0  101913\n",
       "5         HI                   209.0   97768"
      ]
     },
     "execution_count": 104,
     "metadata": {},
     "output_type": "execute_result"
    }
   ],
   "source": [
    "#df_demographics2=df_demographics.withColumn(\"Percentage\", col(\"foreign_born\")/col(\"total_population\"))\n",
    "#df_demographics2.filter(col(\"Percentage\") == \"1\")\n",
    "#df_demographics2.select(col(\"State\"),col(\"City\"),col(\"Percentage\")).sort(desc(\"Percentage\")).limit(10).filter(col(\"Percentage\") > \"0.05\").distinct().limit(5).toPandas()\n",
    "df_immi.groupBy(\"state_code\", \"country_residence_code\").count().where(col(\"count\")>50000).toPandas()"
   ]
  },
  {
   "cell_type": "markdown",
   "metadata": {
    "editable": true
   },
   "source": [
    "## Countries from where the arrivals are more than 50000 to different US states"
   ]
  },
  {
   "cell_type": "code",
   "execution_count": 137,
   "metadata": {
    "editable": true
   },
   "outputs": [
    {
     "data": {
      "text/html": [
       "<div>\n",
       "<style scoped>\n",
       "    .dataframe tbody tr th:only-of-type {\n",
       "        vertical-align: middle;\n",
       "    }\n",
       "\n",
       "    .dataframe tbody tr th {\n",
       "        vertical-align: top;\n",
       "    }\n",
       "\n",
       "    .dataframe thead th {\n",
       "        text-align: right;\n",
       "    }\n",
       "</style>\n",
       "<table border=\"1\" class=\"dataframe\">\n",
       "  <thead>\n",
       "    <tr style=\"text-align: right;\">\n",
       "      <th></th>\n",
       "      <th>country_name</th>\n",
       "      <th>state_Code</th>\n",
       "      <th>count</th>\n",
       "    </tr>\n",
       "  </thead>\n",
       "  <tbody>\n",
       "    <tr>\n",
       "      <th>0</th>\n",
       "      <td>United Kingdom</td>\n",
       "      <td>NY</td>\n",
       "      <td>75503</td>\n",
       "    </tr>\n",
       "    <tr>\n",
       "      <th>1</th>\n",
       "      <td>France</td>\n",
       "      <td>NY</td>\n",
       "      <td>80327</td>\n",
       "    </tr>\n",
       "    <tr>\n",
       "      <th>2</th>\n",
       "      <td>China, Prc</td>\n",
       "      <td>CA</td>\n",
       "      <td>55863</td>\n",
       "    </tr>\n",
       "    <tr>\n",
       "      <th>3</th>\n",
       "      <td>Brazil</td>\n",
       "      <td>FL</td>\n",
       "      <td>64572</td>\n",
       "    </tr>\n",
       "    <tr>\n",
       "      <th>4</th>\n",
       "      <td>United Kingdom</td>\n",
       "      <td>FL</td>\n",
       "      <td>101913</td>\n",
       "    </tr>\n",
       "    <tr>\n",
       "      <th>5</th>\n",
       "      <td>Japan</td>\n",
       "      <td>HI</td>\n",
       "      <td>97768</td>\n",
       "    </tr>\n",
       "  </tbody>\n",
       "</table>\n",
       "</div>"
      ],
      "text/plain": [
       "     country_name state_Code   count\n",
       "0  United Kingdom         NY   75503\n",
       "1          France         NY   80327\n",
       "2      China, Prc         CA   55863\n",
       "3          Brazil         FL   64572\n",
       "4  United Kingdom         FL  101913\n",
       "5           Japan         HI   97768"
      ]
     },
     "execution_count": 137,
     "metadata": {},
     "output_type": "execute_result"
    }
   ],
   "source": [
    "#create dataframe to join with country df so that we dont have to scan the whole immigration table\n",
    "df_immi2 =df_immi.groupBy(\"state_code\", \"country_residence_code\").count()\n",
    "df_country_immi = df_country.join(df_immi2,df_country.country_code ==  df_immi2.country_residence_code,\"inner\")\n",
    "#display(df_country_immi)\n",
    "df_country_immi.select(col(\"country_name\"),col(\"state_Code\"), col(\"count\")).where (col(\"count\")>50000).toPandas()\n"
   ]
  }
 ],
 "metadata": {
  "kernelspec": {
   "display_name": "Python 3",
   "language": "python",
   "name": "python3"
  },
  "language_info": {
   "codemirror_mode": {
    "name": "ipython",
    "version": 3
   },
   "file_extension": ".py",
   "mimetype": "text/x-python",
   "name": "python",
   "nbconvert_exporter": "python",
   "pygments_lexer": "ipython3",
   "version": "3.6.3"
  }
 },
 "nbformat": 4,
 "nbformat_minor": 4
}
